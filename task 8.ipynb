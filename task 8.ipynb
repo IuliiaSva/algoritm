{
 "cells": [
  {
   "cell_type": "code",
   "id": "initial_id",
   "metadata": {
    "collapsed": true,
    "ExecuteTime": {
     "end_time": "2025-09-20T10:39:53.987161Z",
     "start_time": "2025-09-20T10:39:53.980254Z"
    }
   },
   "source": [
    "class Node:\n",
    "    def __init__(self, key):\n",
    "        self.left = None\n",
    "        self.right = None\n",
    "        self.key = key\n",
    "class BinaryTree:\n",
    "    def __init__(self):\n",
    "        self.root = None\n",
    "    def insert(self, key):\n",
    "        if self.root is None:\n",
    "            self.root = Node(key)\n",
    "        else:\n",
    "            self._insert_recursive (self.root, key)\n",
    "    def _insert_recursive(self, node, key):\n",
    "        if key< node.key:\n",
    "            if node.left is None:\n",
    "                node.left = Node(key)\n",
    "            else:\n",
    "               self._insert_recursive (node.left, key)\n",
    "        elif key> node.key:\n",
    "            if node.right is None:\n",
    "                node.right = Node(key)\n",
    "            else:\n",
    "                  self._insert_recursive(node.right, key)\n",
    "    def search(self, key):\n",
    "        return self._search_recursive(self.root,key)\n",
    "    def _search_recursive(self, node, key):\n",
    "        if node is None:\n",
    "            return False\n",
    "        if key == node.key:\n",
    "            return True\n",
    "        elif key < node.key:\n",
    "            return self._search_recursive(node.left, key)\n",
    "        else:\n",
    "            return self._search_recursive(node.right, key)\n",
    "bst = BinaryTree ()\n",
    "keys = [10,20,30,40,50,25]\n",
    "for key in keys:\n",
    "  bst.insert(key)\n",
    "print(bst.search(25))"
   ],
   "outputs": [
    {
     "name": "stdout",
     "output_type": "stream",
     "text": [
      "True\n"
     ]
    }
   ],
   "execution_count": 39
  },
  {
   "metadata": {
    "ExecuteTime": {
     "end_time": "2025-09-20T08:27:47.748286Z",
     "start_time": "2025-09-20T08:27:47.743231Z"
    }
   },
   "cell_type": "code",
   "source": [
    "from collections import deque\n",
    "class Node:\n",
    "    def __init__(self, key):\n",
    "        self.left = None\n",
    "        self.right = None\n",
    "        self.val = key\n",
    "def BFS (root):\n",
    "    if root is None:\n",
    "        return\n",
    "    queue = deque([root])\n",
    "    while queue:\n",
    "        node = queue.popleft()\n",
    "        print(node.val, end=' ')\n",
    "        if node.left:\n",
    "            queue.append(node.left)\n",
    "        if node.right:\n",
    "            queue.append(node.right)\n",
    "root = Node(1)\n",
    "root.left = Node(2)\n",
    "root.right = Node(2)\n",
    "root.left.left = Node(3)\n",
    "root.right.right = Node(4)\n",
    "root.left.right = Node(5)\n",
    "root.right.left = Node(6)\n",
    "BFS(root)"
   ],
   "id": "d6f77e7466fa416b",
   "outputs": [
    {
     "name": "stdout",
     "output_type": "stream",
     "text": [
      "1 2 2 3 5 6 4 "
     ]
    }
   ],
   "execution_count": 20
  },
  {
   "metadata": {
    "ExecuteTime": {
     "end_time": "2025-09-20T09:35:25.315912Z",
     "start_time": "2025-09-20T09:35:25.310543Z"
    }
   },
   "cell_type": "code",
   "source": [
    "class Node:\n",
    "    def __init__(self, key):\n",
    "        self.left = None\n",
    "        self.right = None\n",
    "        self.val = key\n",
    "def preorder(root):\n",
    "    if root:\n",
    "         print(root.val, end=' ')\n",
    "         preorder(root.left)\n",
    "         preorder(root.right)\n",
    "def inorder(root):\n",
    "    if root:\n",
    "        inorder(root.left)\n",
    "        print(root.val, end=' ')\n",
    "        inorder(root.right)\n",
    "def postorder(root):\n",
    "    if root:\n",
    "        postorder(root.left)\n",
    "        postorder(root.right)\n",
    "        print(root.val, end=' ')\n",
    "root = Node(1)\n",
    "root.left = Node(2)\n",
    "root.right = Node(2)\n",
    "root.left.left = Node(3)\n",
    "root.right.right = Node(4)\n",
    "root.left.right = Node(5)\n",
    "root.right.left = Node(6)\n",
    "preorder(root)\n",
    "print ('')\n",
    "inorder(root)\n",
    "print ('')\n",
    "postorder(root)\n",
    "\n"
   ],
   "id": "62308a14ceacfef7",
   "outputs": [
    {
     "name": "stdout",
     "output_type": "stream",
     "text": [
      "1 2 3 5 2 6 4 \n",
      "3 2 5 1 6 2 4 \n",
      "3 5 2 6 4 2 1 "
     ]
    }
   ],
   "execution_count": 23
  },
  {
   "metadata": {
    "ExecuteTime": {
     "end_time": "2025-09-20T10:16:58.771304Z",
     "start_time": "2025-09-20T10:16:58.763443Z"
    }
   },
   "cell_type": "code",
   "source": [
    "class BinaryTree:\n",
    "    def __init__(self, key):\n",
    "        self.key = key\n",
    "        self.left = None\n",
    "        self.right = None\n",
    "        self.height = 1\n",
    "class AVLTree:\n",
    "    def insert(self, root, key):\n",
    "        if root is None:\n",
    "            return BinaryTree (key)\n",
    "        elif key < root.key:\n",
    "            root.left = self.insert(root.left, key)\n",
    "        else:\n",
    "            root.right = self.insert(root.right, key)\n",
    "        root.height = 1+ max (self.get_height(root.left), self.get_height (root.right))\n",
    "        balance = self.rebalance (root)\n",
    "        if balance > 1 and key < root.left.key:\n",
    "            return self.right_rotate (root)\n",
    "        if balance < -1 and key > root.right.key:\n",
    "            return self.left_rotate (root)\n",
    "        if balance > 1 and key > root.left.key:\n",
    "            root.left = self.left_rotate (root.left)\n",
    "            return self.right_rotate (root)\n",
    "        if balance < -1 and key < root.right.key:\n",
    "            root.right= self.right_rotate (root.right)\n",
    "            return self.left_rotate (root)\n",
    "        return root\n",
    "    def left_rotate(self, z):\n",
    "        y=z.right\n",
    "        T2 = y.left\n",
    "        y.left = z\n",
    "        z.right = T2\n",
    "        z.height = 1 + max (self.get_height (z.left), self.get_height (z.right))\n",
    "        y.height = 1 + max (self.get_height (y.left), self.get_height (y.right))\n",
    "        return y\n",
    "    def right_rotate(self, z):\n",
    "        y=z.left\n",
    "        T3 = y.right\n",
    "        y.right = z\n",
    "        z.left = T3\n",
    "        z.height = 1 + max (self.get_height (z.left), self.get_height (z.right))\n",
    "        y.height = 1 + max (self.get_height (y.left), self.get_height (y.right))\n",
    "        return y\n",
    "    def get_height(self, root):\n",
    "        if root is None:\n",
    "            return 0\n",
    "        return root.height\n",
    "    def rebalance(self, root):\n",
    "        if root is None:\n",
    "            return 0\n",
    "        return self.get_height(root.left) - self.get_height(root.right)\n",
    "avl_tree = AVLTree ()\n",
    "root=None\n",
    "keys = [10,20,30,40,50,25]\n",
    "for key in keys:\n",
    "    root = avl_tree.insert(root, key)\n",
    "def pre_order (node):\n",
    "        if node is None:\n",
    "            return\n",
    "        print(f\"{node.key}\", end=\" \")\n",
    "        pre_order (node.left)\n",
    "        pre_order (node.right)\n",
    "pre_order(root)\n",
    "\n",
    "\n",
    "\n"
   ],
   "id": "4cab747e7d793ba4",
   "outputs": [
    {
     "name": "stdout",
     "output_type": "stream",
     "text": [
      "30 20 10 25 40 50 "
     ]
    }
   ],
   "execution_count": 32
  }
 ],
 "metadata": {
  "kernelspec": {
   "display_name": "Python 3",
   "language": "python",
   "name": "python3"
  },
  "language_info": {
   "codemirror_mode": {
    "name": "ipython",
    "version": 2
   },
   "file_extension": ".py",
   "mimetype": "text/x-python",
   "name": "python",
   "nbconvert_exporter": "python",
   "pygments_lexer": "ipython2",
   "version": "2.7.6"
  }
 },
 "nbformat": 4,
 "nbformat_minor": 5
}
