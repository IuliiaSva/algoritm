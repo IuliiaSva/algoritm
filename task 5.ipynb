{
 "cells": [
  {
   "cell_type": "code",
   "id": "initial_id",
   "metadata": {
    "collapsed": true,
    "ExecuteTime": {
     "end_time": "2025-08-17T13:30:34.851223Z",
     "start_time": "2025-08-17T13:30:34.847185Z"
    }
   },
   "source": [
    "def fibonacci(n):\n",
    "    if n == 0:\n",
    "        return 0\n",
    "    elif n == 1:\n",
    "        return 1\n",
    "    else:\n",
    "        return fibonacci(n-1) + fibonacci(n-2)\n",
    "fibonacci(5)\n",
    "#fibonacci(5) fibonacci (4)                                fibonacci(3)\n",
    "#             fibonacci(3)                  fibonacci(2)   fibonacci(2)  fibonacci(1)=1\n",
    "#             fibonacci(2)   fibonacci(1)=1  fibonacci(1)=1 fibonacci(1)=1\n",
    "#             fibonacci(1)=1 fibonacci(0)=0 fibonacci(0)=0 fibonacci(0)=0"
   ],
   "outputs": [
    {
     "data": {
      "text/plain": [
       "5"
      ]
     },
     "execution_count": 16,
     "metadata": {},
     "output_type": "execute_result"
    }
   ],
   "execution_count": 16
  },
  {
   "metadata": {
    "ExecuteTime": {
     "end_time": "2025-08-19T03:39:14.575786Z",
     "start_time": "2025-08-19T03:39:14.572522Z"
    }
   },
   "cell_type": "code",
   "source": [
    "def merge_max (arr):\n",
    "        if len(arr) == 1:\n",
    "            return arr [0]\n",
    "        else:\n",
    "           mid = len(arr)//2\n",
    "           left_max = merge_max(arr[:mid])\n",
    "           right_max = merge_max(arr[mid:])\n",
    "        return max(left_max, right_max)\n",
    "arr =[0,1,3,8,9,4,5,4,7]\n",
    "print (merge_max(arr))"
   ],
   "id": "96938ff3a127af18",
   "outputs": [
    {
     "name": "stdout",
     "output_type": "stream",
     "text": [
      "9\n"
     ]
    }
   ],
   "execution_count": 44
  },
  {
   "metadata": {
    "ExecuteTime": {
     "end_time": "2025-08-19T03:39:17.749527Z",
     "start_time": "2025-08-19T03:39:17.745300Z"
    }
   },
   "cell_type": "code",
   "source": [
    "def quick_sort(arr):\n",
    "    if len(arr) <= 1:\n",
    "        return arr\n",
    "    else:\n",
    "        pivot = arr[len(arr)//2]\n",
    "        left=[]\n",
    "        right=[]\n",
    "        middle=[]\n",
    "        for i in arr:\n",
    "            if i > pivot:\n",
    "                right.append(i)\n",
    "            elif i < pivot:\n",
    "                left.append(i)\n",
    "            else: middle.append(i)\n",
    "        return quick_sort(left) + middle + quick_sort(right)\n",
    "arr= [0,1,3,8,4,5,4,7]\n",
    "print (quick_sort(arr))\n",
    "\n"
   ],
   "id": "5a2066fe8a76290c",
   "outputs": [
    {
     "name": "stdout",
     "output_type": "stream",
     "text": [
      "[0, 1, 3, 4, 4, 5, 7, 8]\n"
     ]
    }
   ],
   "execution_count": 45
  },
  {
   "metadata": {
    "ExecuteTime": {
     "end_time": "2025-08-19T03:39:22.134831Z",
     "start_time": "2025-08-19T03:39:22.126381Z"
    }
   },
   "cell_type": "code",
   "source": [
    "import timeit\n",
    "import random\n",
    "def quick_sort(arr):\n",
    "    if len(arr) <= 1:\n",
    "        return arr\n",
    "    else:\n",
    "        pivot = arr[len(arr)//2]\n",
    "        left=[]\n",
    "        right=[]\n",
    "        middle=[]\n",
    "        for i in arr:\n",
    "            if i > pivot:\n",
    "                right.append(i)\n",
    "            elif i < pivot:\n",
    "                left.append(i)\n",
    "            else: middle.append(i)\n",
    "        return quick_sort(left) + middle + quick_sort(right)\n",
    "def insertion_sort(arr):\n",
    "    n=len(arr)\n",
    "    for i in range(1,n):\n",
    "        key = arr[i]\n",
    "        j = i-1\n",
    "        while j >= 0 and key < arr[j]:\n",
    "            arr[j+1] = arr[j]\n",
    "            j -= 1\n",
    "        arr[j+1] = key\n",
    "    return arr\n",
    "def generate_random_list(count,min_val, max_val):\n",
    "    return [random.randint (min_val, max_val) for _ in range(count)]\n",
    "arr10 = generate_random_list (10,1,100)\n",
    "arr100 = generate_random_list (100,1,100)\n",
    "arr1000 = generate_random_list (1000,1,100)\n",
    "s10 = \"\"\"def quick_sort():\n",
    "    bubble_sort(arr10)\n",
    "    \"\"\"\n",
    "v10= \"\"\"def insertion_sort():\n",
    "    selected_sort(arr10)\n",
    "    \"\"\"\n",
    "print(timeit.timeit(stmt=s10, number=1000))\n",
    "print(timeit.timeit(stmt=v10, number=1000))\n",
    "s100 = \"\"\"def quick_sort():\n",
    "    bubble_sort(arr100)\n",
    "    \"\"\"\n",
    "v100= \"\"\"def insertion_sort():\n",
    "    selected_sort(arr100)\n",
    "    \"\"\"\n",
    "print(timeit.timeit(stmt=s100, number=1000))\n",
    "print(timeit.timeit(stmt=v100, number=1000))\n",
    "s1000= \"\"\"def quick_sort():\n",
    "    bubble_sort(arr1000)\n",
    "    \"\"\"\n",
    "v1000= \"\"\"def insertion_sort():\n",
    "    selected_sort(arr1000)\n",
    "    \"\"\"\n",
    "print(timeit.timeit(stmt=s1000, number=1000))\n",
    "print(timeit.timeit(stmt=v1000, number=1000))"
   ],
   "id": "6bffece99edbbcba",
   "outputs": [
    {
     "name": "stdout",
     "output_type": "stream",
     "text": [
      "6.075000055716373e-05\n",
      "5.904199861106463e-05\n",
      "5.78339968342334e-05\n",
      "5.7375000324100256e-05\n",
      "9.720800153445452e-05\n",
      "5.891600085305981e-05\n"
     ]
    }
   ],
   "execution_count": 46
  }
 ],
 "metadata": {
  "kernelspec": {
   "display_name": "Python 3",
   "language": "python",
   "name": "python3"
  },
  "language_info": {
   "codemirror_mode": {
    "name": "ipython",
    "version": 2
   },
   "file_extension": ".py",
   "mimetype": "text/x-python",
   "name": "python",
   "nbconvert_exporter": "python",
   "pygments_lexer": "ipython2",
   "version": "2.7.6"
  }
 },
 "nbformat": 4,
 "nbformat_minor": 5
}
