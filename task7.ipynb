{
 "cells": [
  {
   "cell_type": "code",
   "id": "initial_id",
   "metadata": {
    "collapsed": true,
    "ExecuteTime": {
     "end_time": "2025-09-20T07:43:56.271358Z",
     "start_time": "2025-09-20T07:43:56.266195Z"
    }
   },
   "source": [
    "class HashTable:\n",
    "    def __init__(self, size):\n",
    "        self.size = size\n",
    "        self.table = [[]for _ in range(size)]\n",
    "    def hash_function(self, key):\n",
    "            return hash(key) % self.size\n",
    "    def insert (self, key, value):\n",
    "            index = self.hash_function(key)\n",
    "            for pair in self.table[index]:\n",
    "                if pair[0] == key:\n",
    "                    pair[1] = value\n",
    "                    return\n",
    "            self.table[index].append([key, value])\n",
    "    def get(self, key):\n",
    "            index = self.hash_function(key)\n",
    "            for pair in self.table[index]:\n",
    "                if pair[0] == key:\n",
    "                    return pair[1]\n",
    "            return None\n",
    "    def delete(self, key):\n",
    "            index = self.hash_function(key)\n",
    "            for i, pair in enumerate(self.table[index]):\n",
    "                if pair[0] == key:\n",
    "                    del self.table[index][i]\n",
    "\n",
    "ht = HashTable (10)\n",
    "ht.insert ('apple',10)\n",
    "ht.insert ('banana',20)\n",
    "print (ht.get('apple'))\n",
    "\n",
    "\n"
   ],
   "outputs": [
    {
     "name": "stdout",
     "output_type": "stream",
     "text": [
      "10\n"
     ]
    }
   ],
   "execution_count": 47
  },
  {
   "metadata": {
    "ExecuteTime": {
     "end_time": "2025-09-14T14:28:35.465270Z",
     "start_time": "2025-09-14T14:28:35.460865Z"
    }
   },
   "cell_type": "code",
   "source": [
    "class HashTable:\n",
    "    def __init__(self, size):\n",
    "        self.size = size\n",
    "        self.table = [[]for _ in range(size)]\n",
    "    def hash_function(self, key):\n",
    "            return hash(key) % self.size\n",
    "    def insert (self, key, value):\n",
    "            index = self.hash_function(key)\n",
    "            for pair in self.table[index]:\n",
    "                if pair[0] == key:\n",
    "                    pair[1] = value\n",
    "                    return\n",
    "            self.table[index].append([key, value])\n",
    "    def search (self, key):\n",
    "            index = self.hash_function(key)\n",
    "            for pair in self.table[index]:\n",
    "                if pair[0] == key:\n",
    "                    return pair[1]\n",
    "            return None\n",
    "    def delete(self, key):\n",
    "            index = self.hash_function(key)\n",
    "            for i, pair in enumerate(self.table[index]):\n",
    "                if pair[0] == key:\n",
    "                    del self.table[index][i]\n",
    "    def resize (self):\n",
    "        new_size=len(self.table)*2\n",
    "        new_table=[None]*new_size\n",
    "        for bucket in self.table:\n",
    "            if bucket is not None:\n",
    "                for key,value in bucket:\n",
    "                    new_index=hash(key)% new_size\n",
    "                    if new_table[new_index] is None:\n",
    "                        new_table [new_index] = []\n",
    "                    new_table [new_index].append([key, value])\n",
    "        self.table = new_table\n",
    "        self.size = new_size\n",
    "        print (self.table)\n",
    "ht = HashTable (5)\n",
    "ht.insert ('apple',10)\n",
    "ht.insert ('banana',20)\n",
    "ht.insert ('ban',30)\n",
    "ht.insert ('orange',40)\n",
    "ht.resize ()"
   ],
   "id": "14a008be809db07f",
   "outputs": [
    {
     "name": "stdout",
     "output_type": "stream",
     "text": [
      "[[['apple', 10]], None, [['ban', 30]], None, None, [['banana', 20]], None, None, None, [['orange', 40]]]\n"
     ]
    }
   ],
   "execution_count": 21
  },
  {
   "metadata": {
    "ExecuteTime": {
     "end_time": "2025-09-14T14:35:50.544838Z",
     "start_time": "2025-09-14T14:35:50.540963Z"
    }
   },
   "cell_type": "code",
   "source": [
    "def sum_hash (input_str):\n",
    "    hash_value = 0\n",
    "    for char in input_str:\n",
    "        hash_value += ord(char)\n",
    "    return hash_value\n",
    "str='world'\n",
    "print (sum_hash(str))"
   ],
   "id": "365d00c1b3f8a1b6",
   "outputs": [
    {
     "name": "stdout",
     "output_type": "stream",
     "text": [
      "552\n"
     ]
    }
   ],
   "execution_count": 22
  },
  {
   "metadata": {
    "ExecuteTime": {
     "end_time": "2025-09-20T07:41:37.758596Z",
     "start_time": "2025-09-20T07:41:37.752674Z"
    }
   },
   "cell_type": "code",
   "source": [
    "def sum_hash (input_str):\n",
    "    hash_value = 0\n",
    "    for char in input_str:\n",
    "        hash_value += ord(char)\n",
    "    return hash_value\n",
    "class HashTable:\n",
    "    def __init__(self, size):\n",
    "        self.size = size\n",
    "        self.table = [[]for _ in range(size)]\n",
    "    def hash_function(self, key):\n",
    "            return hash(key) % self.size\n",
    "    def insert (self, key):\n",
    "            index = self.hash_function(key)\n",
    "            for i in self.table[index]:\n",
    "                if i[0] == key:\n",
    "                   i.append(sum_hash(i[0]))\n",
    "                   return\n",
    "            self.table[index].append([key,sum_hash(key)])\n",
    "    def get(self, key):\n",
    "            index = self.hash_function(key)\n",
    "            for pair in self.table[index]:\n",
    "                if pair[0] == key:\n",
    "                    return pair[1]\n",
    "            return None\n",
    "ht = HashTable (10)\n",
    "ht.insert ('apple')\n",
    "ht.insert ('banana')\n",
    "for pair in ht.table:\n",
    "    print(pair)\n",
    "print (ht.get('apple'))\n",
    "\n"
   ],
   "id": "a40107d4f353310a",
   "outputs": [
    {
     "name": "stdout",
     "output_type": "stream",
     "text": [
      "[['apple', 530]]\n",
      "[]\n",
      "[]\n",
      "[]\n",
      "[]\n",
      "[['banana', 609]]\n",
      "[]\n",
      "[]\n",
      "[]\n",
      "[]\n",
      "530\n"
     ]
    }
   ],
   "execution_count": 46
  }
 ],
 "metadata": {
  "kernelspec": {
   "display_name": "Python 3",
   "language": "python",
   "name": "python3"
  },
  "language_info": {
   "codemirror_mode": {
    "name": "ipython",
    "version": 2
   },
   "file_extension": ".py",
   "mimetype": "text/x-python",
   "name": "python",
   "nbconvert_exporter": "python",
   "pygments_lexer": "ipython2",
   "version": "2.7.6"
  }
 },
 "nbformat": 4,
 "nbformat_minor": 5
}
