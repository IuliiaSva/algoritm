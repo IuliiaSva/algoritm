{
 "cells": [
  {
   "cell_type": "code",
   "id": "initial_id",
   "metadata": {
    "collapsed": true,
    "ExecuteTime": {
     "end_time": "2025-08-19T03:52:15.552147Z",
     "start_time": "2025-08-19T03:52:15.549328Z"
    }
   },
   "source": [
    "import time\n",
    "class Queue:\n",
    "    def __init__(self):\n",
    "        self.items = []\n",
    "    def is_empty(self):\n",
    "       return len (self.items) == 0\n",
    "    def enqueue(self, item):\n",
    "        self.items.append(item)\n",
    "    def dequeue(self):\n",
    "        if not self.is_empty():\n",
    "          return self.items.pop(0)\n",
    "    def peek(self):\n",
    "        if not self.is_empty():\n",
    "           return self.items[0]\n",
    "queue = Queue()\n",
    "queue.enqueue(10)\n",
    "queue.enqueue(20)\n",
    "queue.enqueue('True')\n",
    "queue.enqueue(40)\n",
    "queue.enqueue('Animal')\n",
    "print(queue.is_empty())\n",
    "print(queue.peek())\n",
    "print(queue.dequeue())\n",
    "print(queue.peek())"
   ],
   "outputs": [
    {
     "name": "stdout",
     "output_type": "stream",
     "text": [
      "False\n",
      "10\n",
      "10\n",
      "20\n"
     ]
    }
   ],
   "execution_count": 1
  },
  {
   "metadata": {
    "ExecuteTime": {
     "end_time": "2025-09-13T14:18:23.937761Z",
     "start_time": "2025-09-13T14:18:17.923437Z"
    }
   },
   "cell_type": "code",
   "source": [
    "import queue\n",
    "import time\n",
    "import threading\n",
    "from concurrent.futures import ThreadPoolExecutor\n",
    "task_queue = queue.Queue()\n",
    "task_queue.put(('task', 2))\n",
    "task_queue.put(('task1', 3))\n",
    "task_queue.put(('task2', 4))\n",
    "with ThreadPoolExecutor(max_workers=2) as executor:\n",
    "    results = []\n",
    "    def worker(task_name, duration):\n",
    "        start_time = time.time()\n",
    "        time.sleep(duration)\n",
    "        end_time = time.time()\n",
    "        return f'{task_name}: завершено {end_time:.2f}'\n",
    "    futures ={}\n",
    "    while not task_queue.empty():\n",
    "      task_data = task_queue.get()\n",
    "      futures [executor.submit(worker, *task_data)]= task_data\n",
    "    for future in futures:\n",
    "        results.append(future.result())\n",
    "print ('\\nИтоговые результаты:')\n",
    "for result in results:\n",
    "    print(result)\n",
    "\n",
    "\n",
    "\n",
    "\n",
    "\n"
   ],
   "id": "e9b22b00c4287fd5",
   "outputs": [
    {
     "name": "stdout",
     "output_type": "stream",
     "text": [
      "\n",
      "Итоговые результаты:\n",
      "task: завершено 1757773099.93\n",
      "task1: завершено 1757773100.93\n",
      "task2: завершено 1757773103.93\n"
     ]
    }
   ],
   "execution_count": 12
  },
  {
   "metadata": {
    "ExecuteTime": {
     "end_time": "2025-09-13T14:26:52.283762Z",
     "start_time": "2025-09-13T14:26:52.279442Z"
    }
   },
   "cell_type": "code",
   "source": [
    "def merge_sort (arr):\n",
    "    if len(arr) > 1:\n",
    "        mid = len(arr)//2\n",
    "        left_half = arr[:mid]\n",
    "        right_half = arr[mid:]\n",
    "        merge_sort(left_half)\n",
    "        merge_sort(right_half)\n",
    "        i = j = k = 0\n",
    "        while i < len(left_half) and j < len(right_half):\n",
    "            if left_half[i] < right_half[j]:\n",
    "                arr[k] = left_half[i]\n",
    "                i += 1\n",
    "            else:\n",
    "                arr[k] = right_half[j]\n",
    "                j += 1\n",
    "            k+=1\n",
    "        while i < len(left_half):\n",
    "            arr[k] = left_half[i]\n",
    "            i += 1\n",
    "            k+=1\n",
    "        while j < len(right_half):\n",
    "            arr[k] = right_half[j]\n",
    "            j += 1\n",
    "            k+=1\n",
    "arr = [5,67,34,89,90,3]\n",
    "merge_sort(arr)\n",
    "print(arr)\n",
    "\n"
   ],
   "id": "829a938f4d166970",
   "outputs": [
    {
     "name": "stdout",
     "output_type": "stream",
     "text": [
      "[3, 5, 34, 67, 89, 90]\n"
     ]
    }
   ],
   "execution_count": 18
  },
  {
   "metadata": {
    "ExecuteTime": {
     "end_time": "2025-09-13T14:42:01.119326Z",
     "start_time": "2025-09-13T14:42:01.112679Z"
    }
   },
   "cell_type": "code",
   "source": [
    "import timeit\n",
    "import random\n",
    "def merge_sort (arr):\n",
    "    if len(arr) > 1:\n",
    "        mid = len(arr)//2\n",
    "        left_half = arr[:mid]\n",
    "        right_half = arr[mid:]\n",
    "        merge_sort(left_half)\n",
    "        merge_sort(right_half)\n",
    "        i = j = k = 0\n",
    "        while i < len(left_half) and j < len(right_half):\n",
    "            if left_half[i] < right_half[j]:\n",
    "                arr[k] = left_half[i]\n",
    "                i += 1\n",
    "            else:\n",
    "                arr[k] = right_half[j]\n",
    "                j += 1\n",
    "            k+=1\n",
    "        while i < len(left_half):\n",
    "            arr[k] = left_half[i]\n",
    "            i += 1\n",
    "            k+=1\n",
    "        while j < len(right_half):\n",
    "            arr[k] = right_half[j]\n",
    "            j += 1\n",
    "            k+=1\n",
    "def bubble_sort(arr):\n",
    "    n=len (arr)\n",
    "    for i in range(n):\n",
    "        for j in range(0,n-i-1):\n",
    "            if arr[j] > arr[j+1]:\n",
    "                arr[j], arr[j+1] = arr[j+1], arr[j]\n",
    "    return arr\n",
    "def generate_random_list(count,min_val, max_val):\n",
    "    return [random.randint (min_val, max_val) for _ in range(count)]\n",
    "arr10 = generate_random_list (10,1,100)\n",
    "arr100 = generate_random_list (100,1,100)\n",
    "arr1000 = generate_random_list (1000,1,100)\n",
    "s10 = \"\"\"def test_merge_sort():\n",
    "     merge_sort(arr10)\n",
    "    \"\"\"\n",
    "v10= \"\"\"def test_bubble_sort():\n",
    "    bubble_sort(arr10)\n",
    "    \"\"\"\n",
    "print(timeit.timeit(stmt=s10, number=1000))\n",
    "print(timeit.timeit(stmt=v10, number=1000))\n",
    "s100 = \"\"\"def test_merge_sort():\n",
    "    merge_sort(arr100)\n",
    "    \"\"\"\n",
    "v100= \"\"\"def test_bubble_sort():\n",
    "    bubble_sort(arr100)\n",
    "    \"\"\"\n",
    "print(timeit.timeit(stmt=s100, number=1000))\n",
    "print(timeit.timeit(stmt=v100, number=1000))\n",
    "s1000= \"\"\"def test_merge_sort():\n",
    "    merge_sort(arr1000)\n",
    "    \"\"\"\n",
    "v1000= \"\"\"def test_bubble_sort():\n",
    "    bubble_sort(arr1000)\n",
    "    \"\"\"\n",
    "print(timeit.timeit(stmt=s1000, number=1000))\n",
    "print(timeit.timeit(stmt=v1000, number=1000))"
   ],
   "id": "97934646fb0902fd",
   "outputs": [
    {
     "name": "stdout",
     "output_type": "stream",
     "text": [
      "4.349999926489545e-05\n",
      "4.375000025902409e-05\n",
      "4.279200038581621e-05\n",
      "4.1416999920329545e-05\n",
      "4.258399985701544e-05\n",
      "4.0458000512444414e-05\n"
     ]
    }
   ],
   "execution_count": 20
  }
 ],
 "metadata": {
  "kernelspec": {
   "display_name": "Python 3",
   "language": "python",
   "name": "python3"
  },
  "language_info": {
   "codemirror_mode": {
    "name": "ipython",
    "version": 2
   },
   "file_extension": ".py",
   "mimetype": "text/x-python",
   "name": "python",
   "nbconvert_exporter": "python",
   "pygments_lexer": "ipython2",
   "version": "2.7.6"
  }
 },
 "nbformat": 4,
 "nbformat_minor": 5
}
