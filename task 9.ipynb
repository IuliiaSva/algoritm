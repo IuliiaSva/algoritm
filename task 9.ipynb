{
 "cells": [
  {
   "cell_type": "code",
   "id": "initial_id",
   "metadata": {
    "collapsed": true,
    "ExecuteTime": {
     "end_time": "2025-09-20T11:30:17.065076Z",
     "start_time": "2025-09-20T11:30:17.059979Z"
    }
   },
   "source": [
    "class DirectedGraph:\n",
    "    def __init__(self):\n",
    "        self.graph = {}\n",
    "    def add_vertex(self, v):\n",
    "        if v not in self.graph:\n",
    "            self.graph[v] = []\n",
    "    def add_edge(self, a,b):\n",
    "        self.add_vertex(a)\n",
    "        self.add_vertex(b)\n",
    "        if b not in self.graph[b]:\n",
    "            self.graph[a].append(b)\n",
    "    def print_graph(self):\n",
    "        for node in self.graph:\n",
    "            print(f\"{node} -> {self.graph[node]}\")\n",
    "\n",
    "gr = DirectedGraph()\n",
    "gr.add_vertex(\"A\")\n",
    "gr.add_edge(\"A\", \"C\")\n",
    "gr.add_edge(\"C\", \"A\")\n",
    "gr.print_graph()"
   ],
   "outputs": [
    {
     "name": "stdout",
     "output_type": "stream",
     "text": [
      "A -> ['C']\n",
      "C -> ['A']\n"
     ]
    }
   ],
   "execution_count": 12
  },
  {
   "metadata": {
    "ExecuteTime": {
     "end_time": "2025-09-20T11:51:28.963246Z",
     "start_time": "2025-09-20T11:51:28.958775Z"
    }
   },
   "cell_type": "code",
   "source": [
    "from collections import deque\n",
    "def bfs(graph, start_node):\n",
    "    visited = set()\n",
    "    queue = deque([start_node])\n",
    "    traversed_order = []\n",
    "    while queue:\n",
    "        current_node = queue.popleft()\n",
    "        if current_node not in visited:\n",
    "            visited.add(current_node)\n",
    "            traversed_order.append(current_node)\n",
    "            if current_node in graph:\n",
    "                for neighbor in graph[current_node]:\n",
    "                    if neighbor not in visited:\n",
    "                        queue.append(neighbor)\n",
    "    return traversed_order\n",
    "graph = {\n",
    "    'A': ['B', 'C'],\n",
    "    'C': ['A', 'F'],\n",
    "    'D': ['A', 'E'],\n",
    "}\n",
    "start_node = 'A'\n",
    "print (bfs(graph, \"A\"))"
   ],
   "id": "7360a3c6bac66332",
   "outputs": [
    {
     "name": "stdout",
     "output_type": "stream",
     "text": [
      "['A', 'B', 'C', 'F']\n"
     ]
    }
   ],
   "execution_count": 21
  },
  {
   "metadata": {
    "ExecuteTime": {
     "end_time": "2025-09-23T17:24:14.294343Z",
     "start_time": "2025-09-23T17:24:14.289022Z"
    }
   },
   "cell_type": "code",
   "source": [
    "def create_matrix (num, edges):\n",
    "    matrix = [[0] * num for _ in range(num)]\n",
    "    for u, v in edges:\n",
    "       matrix [u][v]=1\n",
    "       matrix[v][u]=1\n",
    "    return matrix\n",
    "def add_vertex (matrix, num_v):\n",
    "    matrix.append([0] * num_v)\n",
    "    for i in matrix:\n",
    "        i.append(0)\n",
    "    matrix[num_v]=[0]* (num_v+1)\n",
    "    return matrix\n",
    "def add_edge (matrix, u, v):\n",
    "    matrix[u][v]=1\n",
    "    matrix[v][u]=1\n",
    "    return matrix\n",
    "num=5\n",
    "edges = []\n",
    "matrix = create_matrix(num, edges)\n",
    "add_edge(matrix, 0, 1)\n",
    "add_edge(matrix, 1, 2)\n",
    "add_edge(matrix, 2, 3)\n",
    "add_edge(matrix, 3, 4)\n",
    "add_vertex(matrix, 5)\n",
    "for i in matrix:\n",
    "    print(i)"
   ],
   "id": "b70cc7205ac8ef20",
   "outputs": [
    {
     "name": "stdout",
     "output_type": "stream",
     "text": [
      "[0, 1, 0, 0, 0, 0]\n",
      "[1, 0, 1, 0, 0, 0]\n",
      "[0, 1, 0, 1, 0, 0]\n",
      "[0, 0, 1, 0, 1, 0]\n",
      "[0, 0, 0, 1, 0, 0]\n",
      "[0, 0, 0, 0, 0, 0]\n"
     ]
    }
   ],
   "execution_count": 13
  },
  {
   "metadata": {
    "ExecuteTime": {
     "end_time": "2025-09-23T17:32:09.652178Z",
     "start_time": "2025-09-23T17:32:09.646840Z"
    }
   },
   "cell_type": "code",
   "source": [
    "def create_list (edges):\n",
    "    list = {}\n",
    "    for u, v in edges:\n",
    "        if u not in list:\n",
    "            list[u] = []\n",
    "        list[u].append(v)\n",
    "        if(v not in list):\n",
    "            list[v] = []\n",
    "        list[v].append(u)\n",
    "    return list\n",
    "def add_vertex (list, num_v):\n",
    "    if num_v not in list:\n",
    "        list[num_v] = []\n",
    "def add_edge (list, u, v):\n",
    "    add_vertex(list, u)\n",
    "    add_vertex(list, v)\n",
    "    list[u].append(v)\n",
    "    list[v].append(u)\n",
    "    return list\n",
    "edges = []\n",
    "list = create_list(edges)\n",
    "add_vertex(list, 0)\n",
    "add_vertex(list, 1)\n",
    "add_edge(list, 0, 1)\n",
    "add_edge(list, 1, 2)\n",
    "add_edge(list, 2, 3)\n",
    "add_edge(list, 3, 4)\n",
    "print (list)"
   ],
   "id": "a1489d069a29cc63",
   "outputs": [
    {
     "name": "stdout",
     "output_type": "stream",
     "text": [
      "{0: [1], 1: [0, 2], 2: [1, 3], 3: [2, 4], 4: [3]}\n"
     ]
    }
   ],
   "execution_count": 16
  }
 ],
 "metadata": {
  "kernelspec": {
   "display_name": "Python 3",
   "language": "python",
   "name": "python3"
  },
  "language_info": {
   "codemirror_mode": {
    "name": "ipython",
    "version": 2
   },
   "file_extension": ".py",
   "mimetype": "text/x-python",
   "name": "python",
   "nbconvert_exporter": "python",
   "pygments_lexer": "ipython2",
   "version": "2.7.6"
  }
 },
 "nbformat": 4,
 "nbformat_minor": 5
}
