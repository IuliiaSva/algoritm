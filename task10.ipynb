{
 "cells": [
  {
   "cell_type": "code",
   "id": "initial_id",
   "metadata": {
    "collapsed": true,
    "ExecuteTime": {
     "end_time": "2025-09-28T11:57:08.526648Z",
     "start_time": "2025-09-28T11:57:08.522188Z"
    }
   },
   "source": [
    "def kn(capacity, weights, values, n):\n",
    "    dp = [[0 for x in range(capacity + 1)] for x in range(n + 1)]\n",
    "    for i in range(n + 1):\n",
    "        for w in range(capacity + 1):\n",
    "            if i == 0 or w == 0:\n",
    "                dp[i][w] = 0\n",
    "            elif weights[i-1] <= w:\n",
    "                dp[i][w] = max(values[i-1] + dp[i-1][w - weights[i-1]], dp[i-1][w])\n",
    "            else:\n",
    "                dp[i][w] = dp[i-1][w]\n",
    "    return dp[n][capacity]\n",
    "\n",
    "capacity = 200\n",
    "weights = [10, 20, 30, 40,50]\n",
    "values = [60, 100, 453,120,123]\n",
    "n = len(values)\n",
    "\n",
    "print(kn(capacity, weights, values, n))"
   ],
   "outputs": [
    {
     "name": "stdout",
     "output_type": "stream",
     "text": [
      "856\n"
     ]
    }
   ],
   "execution_count": 2
  },
  {
   "metadata": {
    "ExecuteTime": {
     "end_time": "2025-09-28T12:05:50.400315Z",
     "start_time": "2025-09-28T12:05:50.395648Z"
    }
   },
   "cell_type": "code",
   "source": [
    "def lcs_length(s1: str, s2: str) -> int:\n",
    "    m = len(s1)\n",
    "    n = len(s2)\n",
    "    dp = [[0 for _ in range(n + 1)] for _ in range(m + 1)]\n",
    "    for i in range(m + 1):\n",
    "        for j in range(n + 1):\n",
    "            if i == 0 or j == 0:\n",
    "                dp[i][j] = 0\n",
    "            elif s1[i - 1] == s2[j - 1]:\n",
    "                dp[i][j] = dp[i - 1][j - 1] + 1\n",
    "            else:\n",
    "              dp[i][j] = max(dp[i - 1][j], dp[i][j - 1])\n",
    "    return dp[m][n]\n",
    "str1 = \"BGDSE\"\n",
    "str2 = \"LJHBGDUIKOL\"\n",
    "print(lcs_length(str1, str2))\n"
   ],
   "id": "4d118bf35ac66b0b",
   "outputs": [
    {
     "name": "stdout",
     "output_type": "stream",
     "text": [
      "3\n"
     ]
    }
   ],
   "execution_count": 9
  },
  {
   "metadata": {
    "ExecuteTime": {
     "end_time": "2025-09-28T12:08:41.007854Z",
     "start_time": "2025-09-28T12:08:41.004298Z"
    }
   },
   "cell_type": "code",
   "source": [
    "def count(n):\n",
    "    if n <= 0:\n",
    "        return 0\n",
    "    dp = [0] * (n + 1)\n",
    "    dp[0] = 1\n",
    "    for i in range(1, n + 1):\n",
    "        for j in range(i, n + 1):\n",
    "            dp[j] += dp[j - i]\n",
    "    return dp[n]\n",
    "n = 5\n",
    "print(count(n))"
   ],
   "id": "f496cc78d19d141f",
   "outputs": [
    {
     "name": "stdout",
     "output_type": "stream",
     "text": [
      "7\n"
     ]
    }
   ],
   "execution_count": 10
  },
  {
   "metadata": {
    "ExecuteTime": {
     "end_time": "2025-09-28T12:26:59.995111Z",
     "start_time": "2025-09-28T12:26:59.990754Z"
    }
   },
   "cell_type": "code",
   "source": [
    "import math\n",
    "\n",
    "def floyd_warshall(graph):\n",
    "    num_vertices = len(graph)\n",
    "    dist = [row[:] for row in graph]\n",
    "    for k in range(num_vertices):\n",
    "        for i in range(num_vertices):\n",
    "            for j in range(num_vertices):\n",
    "                if dist[i][k] + dist[k][j] < dist[i][j]:\n",
    "                    dist[i][j] = dist[i][k] + dist[k][j]\n",
    "    for i in range(num_vertices):\n",
    "        if dist[i][i] < 0:\n",
    "            print(\"Найден цикл отрицательной длины.\")\n",
    "            return False\n",
    "    return dist\n",
    "INF = math.inf\n",
    "graph = [\n",
    "    [0, 5, INF, 10],\n",
    "    [INF, 0, 3, INF],\n",
    "    [INF, INF, 0, 1],\n",
    "    [INF, INF, INF, 0]\n",
    "]\n",
    "shortest_paths = floyd_warshall(graph)\n",
    "for row in shortest_paths:\n",
    "        print(row)"
   ],
   "id": "8c03da7b279ffaf4",
   "outputs": [
    {
     "name": "stdout",
     "output_type": "stream",
     "text": [
      "[0, 5, 8, 9]\n",
      "[inf, 0, 3, 4]\n",
      "[inf, inf, 0, 1]\n",
      "[inf, inf, inf, 0]\n"
     ]
    }
   ],
   "execution_count": 14
  }
 ],
 "metadata": {
  "kernelspec": {
   "display_name": "Python 3",
   "language": "python",
   "name": "python3"
  },
  "language_info": {
   "codemirror_mode": {
    "name": "ipython",
    "version": 2
   },
   "file_extension": ".py",
   "mimetype": "text/x-python",
   "name": "python",
   "nbconvert_exporter": "python",
   "pygments_lexer": "ipython2",
   "version": "2.7.6"
  }
 },
 "nbformat": 4,
 "nbformat_minor": 5
}
