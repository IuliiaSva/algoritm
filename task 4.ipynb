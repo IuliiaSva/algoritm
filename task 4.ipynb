{
 "cells": [
  {
   "cell_type": "code",
   "id": "initial_id",
   "metadata": {
    "collapsed": true,
    "ExecuteTime": {
     "end_time": "2025-08-17T11:42:33.031131Z",
     "start_time": "2025-08-17T11:42:33.028213Z"
    }
   },
   "source": [
    "def factorial (n):\n",
    "    if n == 1:\n",
    "        return 1\n",
    "    else:\n",
    "        return n * factorial(n-1)\n",
    "factorial(5)"
   ],
   "outputs": [
    {
     "data": {
      "text/plain": [
       "120"
      ]
     },
     "execution_count": 1,
     "metadata": {},
     "output_type": "execute_result"
    }
   ],
   "execution_count": 1
  },
  {
   "metadata": {
    "ExecuteTime": {
     "end_time": "2025-08-17T12:12:03.036013Z",
     "start_time": "2025-08-17T12:12:03.031706Z"
    }
   },
   "cell_type": "code",
   "source": [
    "def sum_list (list):\n",
    "    if len(list) == 0:\n",
    "        return 0\n",
    "    else:\n",
    "        return list [0]+ sum_list(list[1:])\n",
    "sum_list([1,2,3,5,4,5])"
   ],
   "id": "81a4a9f0471956b0",
   "outputs": [
    {
     "data": {
      "text/plain": [
       "20"
      ]
     },
     "execution_count": 10,
     "metadata": {},
     "output_type": "execute_result"
    }
   ],
   "execution_count": 10
  },
  {
   "metadata": {
    "ExecuteTime": {
     "end_time": "2025-08-17T12:21:53.557944Z",
     "start_time": "2025-08-17T12:21:53.553296Z"
    }
   },
   "cell_type": "code",
   "source": [
    "def binary_search (arr, low, high, key):\n",
    "    if high > low:\n",
    "        mid = (low+high)//2\n",
    "        if arr[mid] == key:\n",
    "            return mid\n",
    "        elif arr[mid] > key:\n",
    "            return binary_search(arr,low,mid-1,key)\n",
    "        else:\n",
    "            return binary_search(arr,mid+1,high,key)\n",
    "    return -1\n",
    "\n",
    "arr = [1,2,3,9,2,67,15,78,89,87,12,45]\n",
    "arr.sort()\n",
    "print (arr)\n",
    "print(binary_search(arr,0,len(arr),15))"
   ],
   "id": "86bc80a63005adbc",
   "outputs": [
    {
     "name": "stdout",
     "output_type": "stream",
     "text": [
      "[1, 2, 2, 3, 9, 12, 15, 45, 67, 78, 87, 89]\n",
      "6\n"
     ]
    }
   ],
   "execution_count": 30
  },
  {
   "metadata": {
    "ExecuteTime": {
     "end_time": "2025-08-17T12:33:39.545036Z",
     "start_time": "2025-08-17T12:33:39.540988Z"
    }
   },
   "cell_type": "code",
   "source": [
    "class Stack:\n",
    "    def __init__(self):\n",
    "        self.stack = []\n",
    "    def push(self, item):\n",
    "        self.stack.append(item)\n",
    "    def pop(self):\n",
    "        if not self.is_empty():\n",
    "            return self.stack.pop()\n",
    "        else:\n",
    "            return \"Стек пуст\"\n",
    "    def is_empty (self):\n",
    "        return len(self.stack) == 0\n",
    "    def peek (self):\n",
    "        if not self.is_empty ():\n",
    "            return self.stack[-1]\n",
    "        else:\n",
    "            return \"Стек пуст\"\n",
    "if __name__ == \"__main__\":\n",
    "    stack=Stack()\n",
    "    stack.push(5)\n",
    "    stack.push(\"lesson\")\n",
    "    print(stack.pop())\n",
    "    print(stack.is_empty())\n",
    "    print(stack.peek())\n"
   ],
   "id": "bd6759d442e72f07",
   "outputs": [
    {
     "name": "stdout",
     "output_type": "stream",
     "text": [
      "lesson\n",
      "False\n",
      "5\n"
     ]
    }
   ],
   "execution_count": 34
  }
 ],
 "metadata": {
  "kernelspec": {
   "display_name": "Python 3",
   "language": "python",
   "name": "python3"
  },
  "language_info": {
   "codemirror_mode": {
    "name": "ipython",
    "version": 2
   },
   "file_extension": ".py",
   "mimetype": "text/x-python",
   "name": "python",
   "nbconvert_exporter": "python",
   "pygments_lexer": "ipython2",
   "version": "2.7.6"
  }
 },
 "nbformat": 4,
 "nbformat_minor": 5
}
